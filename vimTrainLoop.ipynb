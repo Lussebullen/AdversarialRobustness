{
 "cells": [
  {
   "cell_type": "code",
   "execution_count": 1,
   "id": "44b9d342-99e4-46cc-8b94-d59a3629dae5",
   "metadata": {
    "tags": []
   },
   "outputs": [],
   "source": [
    "import sys, os, pickle\n",
    "\n",
    "sys.path.insert(0, '/home/jupyter/AdversarialRobustness')\n",
    "sys.path.insert(0, '/home/jupyter/AdversarialRobustness/vim')\n",
    "\n",
    "# Add sbin to path for Trigon - fix of common Debian error\n",
    "original_path = os.environ.get('PATH')\n",
    "os.environ['PATH'] = original_path + ':/sbin'\n",
    "\n",
    "import torch\n",
    "import torch.nn as nn\n",
    "from torchvision import datasets, transforms\n",
    "from torch.utils.data import DataLoader\n",
    "from PIL import Image\n",
    "import requests\n",
    "from matplotlib import pyplot as plt\n",
    "from torchvision import datasets\n",
    "from transformers import ViTImageProcessor, ViTForImageClassification\n",
    "\n",
    "from timm.data.constants import IMAGENET_DEFAULT_MEAN, IMAGENET_DEFAULT_STD\n",
    "\n",
    "import loadVim\n",
    "\n",
    "device = torch.device(\"cuda\" if torch.cuda.is_available() else \"cpu\")"
   ]
  },
  {
   "cell_type": "code",
   "execution_count": 2,
   "id": "861ffc60-8649-4e95-85d7-7cd8eb1573f2",
   "metadata": {
    "tags": []
   },
   "outputs": [],
   "source": [
    "def save_checkpoint(state, filename=\"checkpoint.pth.tar\"):\n",
    "    torch.save(state, filename)\n",
    "\n",
    "def load_checkpoint(filename=\"checkpoint.pth.tar\", device=torch.device('cuda')):\n",
    "    checkpoint = torch.load(filename, map_location=device)\n",
    "    model.load_state_dict(checkpoint['state_dict'])\n",
    "    optimizer.load_state_dict(checkpoint['optimizer'])\n",
    "    epoch = checkpoint['epoch']\n",
    "    return model, optimizer, epoch, checkpoint.get('loss', 0)"
   ]
  },
  {
   "cell_type": "code",
   "execution_count": 3,
   "id": "33fa575f-0233-4a55-82c9-7b9e0e5873ef",
   "metadata": {
    "tags": []
   },
   "outputs": [],
   "source": [
    "def compute_accuracy(outputs, labels):\n",
    "    _, preds = torch.max(outputs, 1) \n",
    "    correct = torch.sum(preds == labels).item() \n",
    "    return correct / len(labels)"
   ]
  },
  {
   "cell_type": "code",
   "execution_count": 4,
   "id": "78cc0ffc-45f7-4d2d-9b4c-b56de813bd8b",
   "metadata": {
    "tags": []
   },
   "outputs": [],
   "source": [
    "def validate(model, valid_loader, criterion, device):\n",
    "    model.eval()\n",
    "    total_loss = 0\n",
    "    total_accuracy = 0\n",
    "    with torch.no_grad():\n",
    "        for images, labels in valid_loader:\n",
    "            images, labels = images.to(device), labels.to(device)\n",
    "            outputs = model(images)\n",
    "            loss = criterion(outputs.logits, labels)\n",
    "\n",
    "            accuracy = compute_accuracy(outputs.logits, labels)\n",
    "            total_accuracy += accuracy\n",
    "            total_loss += loss.item()\n",
    "    \n",
    "    average_loss = total_loss / len(valid_loader)\n",
    "    average_accuracy = total_accuracy / len(valid_loader)\n",
    "    return average_loss, average_accuracy"
   ]
  },
  {
   "cell_type": "markdown",
   "id": "e6060a5d-7ed2-427b-ae9c-814be851466b",
   "metadata": {},
   "source": [
    "# Training Loop"
   ]
  },
  {
   "cell_type": "code",
   "execution_count": 5,
   "id": "58e1973c-22f4-44d2-a02d-0621a17e114c",
   "metadata": {
    "tags": []
   },
   "outputs": [],
   "source": [
    "def train(model, train_loader, valid_loader, optimizer, criterion, device, num_epochs, pathmodel):\n",
    "    logs = []\n",
    "    for epoch in range(num_epochs):\n",
    "        model.train()\n",
    "        total_loss = 0\n",
    "        total_accuracy = 0\n",
    "        for images, labels in train_loader:\n",
    "            images, labels = images.to(device), labels.to(device)\n",
    "            \n",
    "            outputs = model(images)\n",
    "            loss = criterion(outputs.logits, labels)\n",
    "\n",
    "            accuracy = compute_accuracy(outputs.logits, labels)\n",
    "            total_accuracy += accuracy\n",
    "\n",
    "            optimizer.zero_grad()\n",
    "            loss.backward()\n",
    "            optimizer.step()\n",
    "\n",
    "            total_loss += loss.item()\n",
    "        \n",
    "        average_loss = total_loss / len(train_loader)\n",
    "        average_accuracy = total_accuracy / len(train_loader)\n",
    "        val_loss, val_accuracy = validate(model, valid_loader, criterion, device)\n",
    "        \n",
    "        logs.append({\"train\":{\"loss\":average_loss, \"acc\":average_accuracy}, \"val\":{\"loss\":val_loss, \"acc\":val_accuracy}})\n",
    "\n",
    "        print(f\"Epoch {epoch+1}, Train Loss: {average_loss:.4f}, Train Accuracy: {average_accuracy:.4f}, Val Loss: {val_loss:.4f}, Val Accuracy: {val_accuracy:.4f}\")\n",
    "    save_checkpoint({'state_dict': model.state_dict(), 'log':logs}, filename=pathmodel)"
   ]
  },
  {
   "cell_type": "code",
   "execution_count": 6,
   "id": "c12cf804-236f-4cf3-9446-b63733cf03a1",
   "metadata": {
    "tags": []
   },
   "outputs": [],
   "source": [
    "def trainWrap(pathtrain, pathval, pathmodel, nepochs, model=\"vim\"):\n",
    "    if model == \"vim\":\n",
    "        model, processor = loadVim.prepareDownstreamVim()\n",
    "    elif model == \"vit\":\n",
    "        model, processor = loadVim.prepareDownstreamVit()\n",
    "    else: # ResNet\n",
    "        model, processor = loadVim.prepareDownstreamResnet()\n",
    "\n",
    "    transform = transforms.Compose([\n",
    "        lambda image: processor(images=image, return_tensors='pt')['pixel_values'].squeeze(0)\n",
    "    ])\n",
    "\n",
    "    datasetTrain = datasets.ImageFolder(pathtrain, transform = transform)\n",
    "    datasetVal = datasets.ImageFolder(pathval, transform = transform)\n",
    "\n",
    "    loaderTrain = DataLoader(datasetTrain, batch_size=128, shuffle=True)\n",
    "    loaderVal = DataLoader(datasetVal, batch_size=128, shuffle=False)\n",
    "\n",
    "    optimizer = torch.optim.Adam(model.parameters(), lr=1e-2)\n",
    "    criterion = torch.nn.CrossEntropyLoss()\n",
    "    model = model.to(device)\n",
    "    \n",
    "    train(model, loaderTrain, loaderVal, optimizer, criterion, device, nepochs, pathmodel)"
   ]
  },
  {
   "cell_type": "markdown",
   "id": "2c0be986-ba6e-4998-acfc-06f35872047c",
   "metadata": {},
   "source": [
    "# Vim Tuning"
   ]
  },
  {
   "cell_type": "code",
   "execution_count": 8,
   "id": "c63efafa-b2cb-4c95-9c33-82250c83d248",
   "metadata": {
    "tags": []
   },
   "outputs": [
    {
     "name": "stdout",
     "output_type": "stream",
     "text": [
      "Epoch 1, Train Loss: 1.9095, Train Accuracy: 0.2878, Val Loss: 1.3994, Val Accuracy: 0.4831\n",
      "Epoch 2, Train Loss: 1.3237, Train Accuracy: 0.5229, Val Loss: 1.1946, Val Accuracy: 0.5733\n",
      "Epoch 3, Train Loss: 1.1047, Train Accuracy: 0.5853, Val Loss: 1.1789, Val Accuracy: 0.5279\n",
      "Epoch 4, Train Loss: 1.0166, Train Accuracy: 0.6400, Val Loss: 1.0358, Val Accuracy: 0.6000\n",
      "Epoch 5, Train Loss: 0.8842, Train Accuracy: 0.6776, Val Loss: 1.0370, Val Accuracy: 0.5647\n",
      "Epoch 6, Train Loss: 0.8506, Train Accuracy: 0.6917, Val Loss: 0.9461, Val Accuracy: 0.6748\n",
      "Epoch 7, Train Loss: 0.7604, Train Accuracy: 0.7245, Val Loss: 0.9037, Val Accuracy: 0.6864\n",
      "Epoch 8, Train Loss: 0.7960, Train Accuracy: 0.6949, Val Loss: 1.0110, Val Accuracy: 0.6186\n",
      "Epoch 9, Train Loss: 0.7697, Train Accuracy: 0.7079, Val Loss: 0.9418, Val Accuracy: 0.6660\n",
      "Epoch 10, Train Loss: 0.7355, Train Accuracy: 0.7115, Val Loss: 0.9198, Val Accuracy: 0.6702\n",
      "Epoch 11, Train Loss: 0.7267, Train Accuracy: 0.7364, Val Loss: 0.9789, Val Accuracy: 0.6483\n",
      "Epoch 12, Train Loss: 0.6252, Train Accuracy: 0.7747, Val Loss: 0.9064, Val Accuracy: 0.6683\n",
      "Epoch 13, Train Loss: 0.6202, Train Accuracy: 0.7908, Val Loss: 0.8623, Val Accuracy: 0.6913\n",
      "Epoch 14, Train Loss: 0.5880, Train Accuracy: 0.8186, Val Loss: 0.8541, Val Accuracy: 0.6828\n",
      "Epoch 15, Train Loss: 0.5616, Train Accuracy: 0.8257, Val Loss: 0.9347, Val Accuracy: 0.6663\n",
      "Epoch 16, Train Loss: 0.5947, Train Accuracy: 0.7889, Val Loss: 0.8134, Val Accuracy: 0.7197\n",
      "Epoch 17, Train Loss: 0.5818, Train Accuracy: 0.7977, Val Loss: 0.8458, Val Accuracy: 0.6962\n",
      "Epoch 18, Train Loss: 0.5378, Train Accuracy: 0.7972, Val Loss: 0.8340, Val Accuracy: 0.6710\n",
      "Epoch 19, Train Loss: 0.5188, Train Accuracy: 0.8218, Val Loss: 0.8280, Val Accuracy: 0.6827\n",
      "Epoch 20, Train Loss: 0.5184, Train Accuracy: 0.8367, Val Loss: 0.8502, Val Accuracy: 0.6660\n"
     ]
    }
   ],
   "source": [
    "pathtrain = \"/home/jupyter/AdversarialRobustness/CelebSubset/CelebTrainA\"\n",
    "pathval = \"/home/jupyter/AdversarialRobustness/CelebSubset/CelebVal\"\n",
    "pathmodel = \"/home/jupyter/AdversarialRobustness/models/VimA.pth\"\n",
    "\n",
    "trainWrap(pathtrain, pathval, pathmodel, 20)\n",
    "# state_dict and log saved in dictionary at pathmodel."
   ]
  },
  {
   "cell_type": "code",
   "execution_count": 9,
   "id": "caa8edac-85e7-4e94-a4af-91284cba5f0f",
   "metadata": {
    "tags": []
   },
   "outputs": [
    {
     "name": "stdout",
     "output_type": "stream",
     "text": [
      "Epoch 1, Train Loss: 1.8283, Train Accuracy: 0.3146, Val Loss: 1.3761, Val Accuracy: 0.5262\n",
      "Epoch 2, Train Loss: 1.2348, Train Accuracy: 0.5428, Val Loss: 1.1845, Val Accuracy: 0.5520\n",
      "Epoch 3, Train Loss: 0.9911, Train Accuracy: 0.6424, Val Loss: 1.0807, Val Accuracy: 0.5804\n",
      "Epoch 4, Train Loss: 0.8882, Train Accuracy: 0.6588, Val Loss: 1.0678, Val Accuracy: 0.5999\n",
      "Epoch 5, Train Loss: 0.8155, Train Accuracy: 0.7176, Val Loss: 1.0476, Val Accuracy: 0.6122\n",
      "Epoch 6, Train Loss: 0.7544, Train Accuracy: 0.7310, Val Loss: 0.9935, Val Accuracy: 0.6220\n",
      "Epoch 7, Train Loss: 0.6427, Train Accuracy: 0.7776, Val Loss: 1.0437, Val Accuracy: 0.6252\n",
      "Epoch 8, Train Loss: 0.6508, Train Accuracy: 0.7823, Val Loss: 0.9869, Val Accuracy: 0.6415\n",
      "Epoch 9, Train Loss: 0.6308, Train Accuracy: 0.7908, Val Loss: 1.0071, Val Accuracy: 0.6095\n",
      "Epoch 10, Train Loss: 0.5679, Train Accuracy: 0.8289, Val Loss: 1.0041, Val Accuracy: 0.6435\n",
      "Epoch 11, Train Loss: 0.5906, Train Accuracy: 0.8062, Val Loss: 0.9721, Val Accuracy: 0.6318\n",
      "Epoch 12, Train Loss: 0.5398, Train Accuracy: 0.8250, Val Loss: 1.0112, Val Accuracy: 0.6271\n",
      "Epoch 13, Train Loss: 0.5756, Train Accuracy: 0.8067, Val Loss: 0.9817, Val Accuracy: 0.6387\n",
      "Epoch 14, Train Loss: 0.5286, Train Accuracy: 0.8094, Val Loss: 0.9785, Val Accuracy: 0.6212\n",
      "Epoch 15, Train Loss: 0.4791, Train Accuracy: 0.8377, Val Loss: 0.9460, Val Accuracy: 0.6503\n",
      "Epoch 16, Train Loss: 0.4733, Train Accuracy: 0.8435, Val Loss: 0.9586, Val Accuracy: 0.6473\n",
      "Epoch 17, Train Loss: 0.4752, Train Accuracy: 0.8343, Val Loss: 0.9182, Val Accuracy: 0.6709\n",
      "Epoch 18, Train Loss: 0.4480, Train Accuracy: 0.8479, Val Loss: 0.9843, Val Accuracy: 0.6387\n",
      "Epoch 19, Train Loss: 0.4481, Train Accuracy: 0.8509, Val Loss: 0.9331, Val Accuracy: 0.6581\n",
      "Epoch 20, Train Loss: 0.4342, Train Accuracy: 0.8582, Val Loss: 0.9411, Val Accuracy: 0.6582\n"
     ]
    }
   ],
   "source": [
    "pathtrain = \"/home/jupyter/AdversarialRobustness/CelebSubset/CelebTrainB\"\n",
    "pathval = \"/home/jupyter/AdversarialRobustness/CelebSubset/CelebVal\"\n",
    "pathmodel = \"/home/jupyter/AdversarialRobustness/models/VimB.pth\"\n",
    "\n",
    "trainWrap(pathtrain, pathval, pathmodel, 20)"
   ]
  },
  {
   "cell_type": "code",
   "execution_count": 10,
   "id": "b29039e7-b22c-4f33-91d2-e693e304c4f7",
   "metadata": {
    "tags": []
   },
   "outputs": [
    {
     "name": "stdout",
     "output_type": "stream",
     "text": [
      "Results for dataset  A\n",
      "(0.9388849437236786, 0.6850490196078431)\n",
      "Results for dataset  B\n",
      "(0.9405563771724701, 0.7212775735294117)\n"
     ]
    }
   ],
   "source": [
    "# Accuracies in hindsight:\n",
    "\n",
    "for dataset in [\"A\", \"B\"]:\n",
    "    mod = torch.load(f\"/home/jupyter/AdversarialRobustness/models/Vim{dataset}.pth\")\n",
    "    model, processor = loadVim.prepareDownstreamVim()\n",
    "    model.vim_model.load_state_dict(mod[\"state_dict\"])\n",
    "    transform = transforms.Compose([\n",
    "            lambda image: processor(images=image, return_tensors='pt')['pixel_values'].squeeze(0)\n",
    "        ])\n",
    "    datasetTest = datasets.ImageFolder(\"/home/jupyter/AdversarialRobustness/CelebSubset/CelebTest\", transform = transform)\n",
    "    loaderTrain = DataLoader(datasetTest, batch_size=128, shuffle=False)\n",
    "    print(\"Results for dataset \", dataset)\n",
    "    print(validate(model.to(device), loaderTrain, torch.nn.CrossEntropyLoss(), device))"
   ]
  },
  {
   "cell_type": "markdown",
   "id": "32ed8df8-434b-47ad-8a33-da758bb7c029",
   "metadata": {},
   "source": [
    "# ViT Tuning"
   ]
  },
  {
   "cell_type": "code",
   "execution_count": 8,
   "id": "47ec92c7-3671-4bc7-9f23-bf18e25cb359",
   "metadata": {
    "tags": []
   },
   "outputs": [
    {
     "name": "stdout",
     "output_type": "stream",
     "text": [
      "Epoch 1, Train Loss: 1.2401, Train Accuracy: 0.5301, Val Loss: 0.6455, Val Accuracy: 0.7558\n",
      "Epoch 2, Train Loss: 0.4754, Train Accuracy: 0.8230, Val Loss: 0.6222, Val Accuracy: 0.7433\n",
      "Epoch 3, Train Loss: 0.3282, Train Accuracy: 0.8707, Val Loss: 0.3725, Val Accuracy: 0.8666\n",
      "Epoch 4, Train Loss: 0.2411, Train Accuracy: 0.9087, Val Loss: 0.3697, Val Accuracy: 0.8852\n",
      "Epoch 5, Train Loss: 0.1716, Train Accuracy: 0.9317, Val Loss: 0.3260, Val Accuracy: 0.8715\n",
      "Epoch 6, Train Loss: 0.0969, Train Accuracy: 0.9766, Val Loss: 0.3564, Val Accuracy: 0.8668\n",
      "Epoch 7, Train Loss: 0.0828, Train Accuracy: 0.9837, Val Loss: 0.3383, Val Accuracy: 0.8579\n",
      "Epoch 8, Train Loss: 0.0572, Train Accuracy: 0.9941, Val Loss: 0.3138, Val Accuracy: 0.8726\n",
      "Epoch 9, Train Loss: 0.0463, Train Accuracy: 0.9961, Val Loss: 0.2909, Val Accuracy: 0.8794\n",
      "Epoch 10, Train Loss: 0.0389, Train Accuracy: 0.9980, Val Loss: 0.2849, Val Accuracy: 0.8881\n",
      "Epoch 11, Train Loss: 0.0327, Train Accuracy: 0.9990, Val Loss: 0.2908, Val Accuracy: 0.8842\n",
      "Epoch 12, Train Loss: 0.0290, Train Accuracy: 0.9990, Val Loss: 0.2823, Val Accuracy: 0.8842\n",
      "Epoch 13, Train Loss: 0.0253, Train Accuracy: 1.0000, Val Loss: 0.2829, Val Accuracy: 0.8842\n",
      "Epoch 14, Train Loss: 0.0243, Train Accuracy: 0.9990, Val Loss: 0.2753, Val Accuracy: 0.8978\n",
      "Epoch 15, Train Loss: 0.0248, Train Accuracy: 1.0000, Val Loss: 0.2905, Val Accuracy: 0.8930\n",
      "Epoch 16, Train Loss: 0.0234, Train Accuracy: 1.0000, Val Loss: 0.2809, Val Accuracy: 0.8900\n",
      "Epoch 17, Train Loss: 0.0188, Train Accuracy: 1.0000, Val Loss: 0.2886, Val Accuracy: 0.8930\n",
      "Epoch 18, Train Loss: 0.0178, Train Accuracy: 1.0000, Val Loss: 0.2852, Val Accuracy: 0.8891\n",
      "Epoch 19, Train Loss: 0.0159, Train Accuracy: 1.0000, Val Loss: 0.2863, Val Accuracy: 0.9027\n",
      "Epoch 20, Train Loss: 0.0145, Train Accuracy: 1.0000, Val Loss: 0.2778, Val Accuracy: 0.8978\n"
     ]
    }
   ],
   "source": [
    "pathtrain = \"/home/jupyter/AdversarialRobustness/CelebSubset/CelebTrainA\"\n",
    "pathval = \"/home/jupyter/AdversarialRobustness/CelebSubset/CelebVal\"\n",
    "pathmodel = \"/home/jupyter/AdversarialRobustness/models/VitA.pth\"\n",
    "\n",
    "trainWrap(pathtrain, pathval, pathmodel, 20, model=\"vit\")"
   ]
  },
  {
   "cell_type": "code",
   "execution_count": 9,
   "id": "0b48ec93-68df-4865-aab3-6ff580610c60",
   "metadata": {
    "tags": []
   },
   "outputs": [
    {
     "name": "stdout",
     "output_type": "stream",
     "text": [
      "Epoch 1, Train Loss: 1.3098, Train Accuracy: 0.4871, Val Loss: 0.5895, Val Accuracy: 0.7819\n",
      "Epoch 2, Train Loss: 0.4890, Train Accuracy: 0.8325, Val Loss: 0.4905, Val Accuracy: 0.8491\n",
      "Epoch 3, Train Loss: 0.3087, Train Accuracy: 0.8855, Val Loss: 0.4881, Val Accuracy: 0.8412\n",
      "Epoch 4, Train Loss: 0.1912, Train Accuracy: 0.9395, Val Loss: 0.4139, Val Accuracy: 0.8434\n",
      "Epoch 5, Train Loss: 0.1379, Train Accuracy: 0.9514, Val Loss: 0.4069, Val Accuracy: 0.8802\n",
      "Epoch 6, Train Loss: 0.1204, Train Accuracy: 0.9661, Val Loss: 0.3859, Val Accuracy: 0.8647\n",
      "Epoch 7, Train Loss: 0.0803, Train Accuracy: 0.9834, Val Loss: 0.3827, Val Accuracy: 0.8686\n",
      "Epoch 8, Train Loss: 0.0675, Train Accuracy: 0.9902, Val Loss: 0.3969, Val Accuracy: 0.8783\n",
      "Epoch 9, Train Loss: 0.0479, Train Accuracy: 0.9971, Val Loss: 0.3833, Val Accuracy: 0.8958\n",
      "Epoch 10, Train Loss: 0.0405, Train Accuracy: 0.9971, Val Loss: 0.3773, Val Accuracy: 0.8997\n",
      "Epoch 11, Train Loss: 0.0319, Train Accuracy: 0.9980, Val Loss: 0.3932, Val Accuracy: 0.8958\n",
      "Epoch 12, Train Loss: 0.0280, Train Accuracy: 1.0000, Val Loss: 0.3858, Val Accuracy: 0.8861\n",
      "Epoch 13, Train Loss: 0.0257, Train Accuracy: 1.0000, Val Loss: 0.3890, Val Accuracy: 0.9036\n",
      "Epoch 14, Train Loss: 0.0231, Train Accuracy: 1.0000, Val Loss: 0.3912, Val Accuracy: 0.8949\n",
      "Epoch 15, Train Loss: 0.0218, Train Accuracy: 1.0000, Val Loss: 0.3914, Val Accuracy: 0.8910\n",
      "Epoch 16, Train Loss: 0.0220, Train Accuracy: 1.0000, Val Loss: 0.3990, Val Accuracy: 0.8900\n",
      "Epoch 17, Train Loss: 0.0207, Train Accuracy: 1.0000, Val Loss: 0.4040, Val Accuracy: 0.8871\n",
      "Epoch 18, Train Loss: 0.0190, Train Accuracy: 1.0000, Val Loss: 0.3976, Val Accuracy: 0.8949\n",
      "Epoch 19, Train Loss: 0.0177, Train Accuracy: 1.0000, Val Loss: 0.3996, Val Accuracy: 0.8988\n",
      "Epoch 20, Train Loss: 0.0159, Train Accuracy: 1.0000, Val Loss: 0.4103, Val Accuracy: 0.8861\n"
     ]
    }
   ],
   "source": [
    "pathtrain = \"/home/jupyter/AdversarialRobustness/CelebSubset/CelebTrainB\"\n",
    "pathval = \"/home/jupyter/AdversarialRobustness/CelebSubset/CelebVal\"\n",
    "pathmodel = \"/home/jupyter/AdversarialRobustness/models/VitB.pth\"\n",
    "\n",
    "trainWrap(pathtrain, pathval, pathmodel, 20, model=\"vit\")"
   ]
  },
  {
   "cell_type": "code",
   "execution_count": 10,
   "id": "8d2305a3-b45e-4af7-bc9d-8d3b0ac28728",
   "metadata": {
    "tags": []
   },
   "outputs": [
    {
     "name": "stdout",
     "output_type": "stream",
     "text": [
      "Results for dataset  A\n",
      "(0.2904525399208069, 0.9129136029411764)\n",
      "Results for dataset  B\n",
      "(0.2982930690050125, 0.8953737745098039)\n"
     ]
    }
   ],
   "source": [
    "# Accuracies in hindsight:\n",
    "\n",
    "for dataset in [\"A\", \"B\"]:\n",
    "    mod = torch.load(f\"/home/jupyter/AdversarialRobustness/models/Vit{dataset}.pth\")\n",
    "    model, processor = loadVim.prepareDownstreamVit()\n",
    "    model.load_state_dict(mod[\"state_dict\"])\n",
    "    transform = transforms.Compose([\n",
    "            lambda image: processor(images=image, return_tensors='pt')['pixel_values'].squeeze(0)\n",
    "        ])\n",
    "    datasetTest = datasets.ImageFolder(\"/home/jupyter/AdversarialRobustness/CelebSubset/CelebTest\", transform = transform)\n",
    "    loaderTrain = DataLoader(datasetTest, batch_size=128, shuffle=False)\n",
    "    print(\"Results for dataset \", dataset)\n",
    "    print(validate(model.to(device), loaderTrain, torch.nn.CrossEntropyLoss(), device))"
   ]
  },
  {
   "cell_type": "markdown",
   "id": "9d7b85f8-ee9f-45fb-bf4e-631513d62365",
   "metadata": {},
   "source": [
    "# ResNet Tuning"
   ]
  },
  {
   "cell_type": "code",
   "execution_count": 7,
   "id": "5a86fa0b-4526-40d0-89c7-5f1ae864413a",
   "metadata": {
    "tags": []
   },
   "outputs": [
    {
     "name": "stdout",
     "output_type": "stream",
     "text": [
      "Epoch 1, Train Loss: 2.2684, Train Accuracy: 0.2126, Val Loss: 2.1682, Val Accuracy: 0.2023\n",
      "Epoch 2, Train Loss: 1.9666, Train Accuracy: 0.3271, Val Loss: 1.9724, Val Accuracy: 0.3989\n",
      "Epoch 3, Train Loss: 1.6519, Train Accuracy: 0.4933, Val Loss: 1.9446, Val Accuracy: 0.2897\n",
      "Epoch 4, Train Loss: 1.4403, Train Accuracy: 0.5717, Val Loss: 1.8794, Val Accuracy: 0.2990\n",
      "Epoch 5, Train Loss: 1.3350, Train Accuracy: 0.6254, Val Loss: 1.7883, Val Accuracy: 0.4339\n",
      "Epoch 6, Train Loss: 1.1973, Train Accuracy: 0.6769, Val Loss: 1.6809, Val Accuracy: 0.4661\n",
      "Epoch 7, Train Loss: 1.0844, Train Accuracy: 0.7212, Val Loss: 1.5516, Val Accuracy: 0.4673\n",
      "Epoch 8, Train Loss: 0.9862, Train Accuracy: 0.7774, Val Loss: 1.5108, Val Accuracy: 0.5157\n",
      "Epoch 9, Train Loss: 0.9119, Train Accuracy: 0.7832, Val Loss: 1.4056, Val Accuracy: 0.5443\n",
      "Epoch 10, Train Loss: 0.9064, Train Accuracy: 0.7733, Val Loss: 1.4476, Val Accuracy: 0.4985\n",
      "Epoch 11, Train Loss: 0.8286, Train Accuracy: 0.7996, Val Loss: 1.3525, Val Accuracy: 0.5374\n",
      "Epoch 12, Train Loss: 0.7612, Train Accuracy: 0.8348, Val Loss: 1.3181, Val Accuracy: 0.5579\n",
      "Epoch 13, Train Loss: 0.7459, Train Accuracy: 0.8355, Val Loss: 1.3898, Val Accuracy: 0.4926\n",
      "Epoch 14, Train Loss: 0.7490, Train Accuracy: 0.7986, Val Loss: 1.3026, Val Accuracy: 0.5492\n",
      "Epoch 15, Train Loss: 0.6653, Train Accuracy: 0.8436, Val Loss: 1.3292, Val Accuracy: 0.5385\n",
      "Epoch 16, Train Loss: 0.6066, Train Accuracy: 0.8858, Val Loss: 1.3287, Val Accuracy: 0.4975\n",
      "Epoch 17, Train Loss: 0.5672, Train Accuracy: 0.8943, Val Loss: 1.2920, Val Accuracy: 0.5600\n",
      "Epoch 18, Train Loss: 0.5288, Train Accuracy: 0.9056, Val Loss: 1.2561, Val Accuracy: 0.5706\n",
      "Epoch 19, Train Loss: 0.5336, Train Accuracy: 0.9112, Val Loss: 1.2777, Val Accuracy: 0.5696\n",
      "Epoch 20, Train Loss: 0.4922, Train Accuracy: 0.9204, Val Loss: 1.2683, Val Accuracy: 0.5776\n"
     ]
    }
   ],
   "source": [
    "pathtrain = \"/home/jupyter/AdversarialRobustness/CelebSubset/CelebTrainA\"\n",
    "pathval = \"/home/jupyter/AdversarialRobustness/CelebSubset/CelebVal\"\n",
    "pathmodel = \"/home/jupyter/AdversarialRobustness/models/ResNetA.pth\"\n",
    "\n",
    "trainWrap(pathtrain, pathval, pathmodel, 20, model=\"resnet\")"
   ]
  },
  {
   "cell_type": "code",
   "execution_count": 8,
   "id": "d68bbee2-61dc-45d0-ba27-d220bae947b8",
   "metadata": {
    "tags": []
   },
   "outputs": [
    {
     "name": "stdout",
     "output_type": "stream",
     "text": [
      "Epoch 1, Train Loss: 2.3905, Train Accuracy: 0.1545, Val Loss: 2.2187, Val Accuracy: 0.0664\n",
      "Epoch 2, Train Loss: 2.0348, Train Accuracy: 0.3119, Val Loss: 2.0542, Val Accuracy: 0.2388\n",
      "Epoch 3, Train Loss: 1.6819, Train Accuracy: 0.4940, Val Loss: 2.0122, Val Accuracy: 0.3379\n",
      "Epoch 4, Train Loss: 1.4845, Train Accuracy: 0.5670, Val Loss: 1.8730, Val Accuracy: 0.4146\n",
      "Epoch 5, Train Loss: 1.3537, Train Accuracy: 0.5814, Val Loss: 1.7994, Val Accuracy: 0.4546\n",
      "Epoch 6, Train Loss: 1.2529, Train Accuracy: 0.6373, Val Loss: 1.7535, Val Accuracy: 0.2872\n",
      "Epoch 7, Train Loss: 1.1850, Train Accuracy: 0.6561, Val Loss: 1.6322, Val Accuracy: 0.4267\n",
      "Epoch 8, Train Loss: 1.0656, Train Accuracy: 0.7366, Val Loss: 1.4832, Val Accuracy: 0.5041\n",
      "Epoch 9, Train Loss: 0.9824, Train Accuracy: 0.7503, Val Loss: 1.4024, Val Accuracy: 0.5181\n",
      "Epoch 10, Train Loss: 0.9351, Train Accuracy: 0.7882, Val Loss: 1.3464, Val Accuracy: 0.6093\n",
      "Epoch 11, Train Loss: 0.8360, Train Accuracy: 0.8172, Val Loss: 1.3688, Val Accuracy: 0.5023\n",
      "Epoch 12, Train Loss: 0.7798, Train Accuracy: 0.8167, Val Loss: 1.3166, Val Accuracy: 0.5860\n",
      "Epoch 13, Train Loss: 0.7480, Train Accuracy: 0.8411, Val Loss: 1.2865, Val Accuracy: 0.5675\n",
      "Epoch 14, Train Loss: 0.6994, Train Accuracy: 0.8477, Val Loss: 1.2705, Val Accuracy: 0.5608\n",
      "Epoch 15, Train Loss: 0.6662, Train Accuracy: 0.8689, Val Loss: 1.2898, Val Accuracy: 0.5831\n",
      "Epoch 16, Train Loss: 0.6546, Train Accuracy: 0.8560, Val Loss: 1.2395, Val Accuracy: 0.5860\n",
      "Epoch 17, Train Loss: 0.5970, Train Accuracy: 0.8814, Val Loss: 1.2303, Val Accuracy: 0.5851\n",
      "Epoch 18, Train Loss: 0.5840, Train Accuracy: 0.8760, Val Loss: 1.2333, Val Accuracy: 0.5958\n",
      "Epoch 19, Train Loss: 0.5683, Train Accuracy: 0.8809, Val Loss: 1.2309, Val Accuracy: 0.6035\n",
      "Epoch 20, Train Loss: 0.5586, Train Accuracy: 0.9051, Val Loss: 1.2272, Val Accuracy: 0.5813\n"
     ]
    }
   ],
   "source": [
    "pathtrain = \"/home/jupyter/AdversarialRobustness/CelebSubset/CelebTrainB\"\n",
    "pathval = \"/home/jupyter/AdversarialRobustness/CelebSubset/CelebVal\"\n",
    "pathmodel = \"/home/jupyter/AdversarialRobustness/models/ResNetB.pth\"\n",
    "\n",
    "trainWrap(pathtrain, pathval, pathmodel, 20, model=\"resnet\")"
   ]
  },
  {
   "cell_type": "code",
   "execution_count": 11,
   "id": "5f093e85-db8d-4646-b3f3-6643f83fc529",
   "metadata": {
    "tags": []
   },
   "outputs": [
    {
     "name": "stdout",
     "output_type": "stream",
     "text": [
      "Results for dataset  A\n",
      "(1.3444638848304749, 0.5605851715686274)\n",
      "Results for dataset  B\n",
      "(1.2706778049468994, 0.5519301470588236)\n"
     ]
    }
   ],
   "source": [
    "# Accuracies in hindsight:\n",
    "\n",
    "for dataset in [\"A\", \"B\"]:\n",
    "    mod = torch.load(f\"/home/jupyter/AdversarialRobustness/models/ResNet{dataset}.pth\")\n",
    "    model, processor = loadVim.prepareDownstreamResnet()\n",
    "    model.load_state_dict(mod[\"state_dict\"])\n",
    "    transform = transforms.Compose([\n",
    "            lambda image: processor(images=image, return_tensors='pt')['pixel_values'].squeeze(0)\n",
    "        ])\n",
    "    datasetTest = datasets.ImageFolder(\"/home/jupyter/AdversarialRobustness/CelebSubset/CelebTest\", transform = transform)\n",
    "    loaderTrain = DataLoader(datasetTest, batch_size=128, shuffle=False)\n",
    "    print(\"Results for dataset \", dataset)\n",
    "    print(validate(model.to(device), loaderTrain, torch.nn.CrossEntropyLoss(), device))"
   ]
  },
  {
   "cell_type": "markdown",
   "id": "7f0c7e74-1a7f-4e13-8ef7-5d0aa386a4cd",
   "metadata": {},
   "source": [
    "# Model Hardening with Adversarial Training\n",
    "\n",
    "Only model variants with suffix A will be used here."
   ]
  },
  {
   "cell_type": "code",
   "execution_count": 15,
   "id": "148346e1-ea1a-47f3-86e2-f12c76696bef",
   "metadata": {
    "tags": []
   },
   "outputs": [],
   "source": [
    "def advTrainWrap(pathtrain, pathtrainreg, pathval, pathmodel, pathcheckpoint, nepochs, model=\"vim\"):\n",
    "    if model == \"vim\":\n",
    "        model, processor = loadVim.prepareDownstreamVim()\n",
    "        checkpoint = torch.load(pathcheckpoint)\n",
    "        model.vim_model.load_state_dict(checkpoint[\"state_dict\"])\n",
    "    elif model == \"vit\":\n",
    "        model, processor = loadVim.prepareDownstreamVit()\n",
    "        checkpoint = torch.load(pathcheckpoint)\n",
    "        model.load_state_dict(checkpoint[\"state_dict\"])\n",
    "    else: # ResNet\n",
    "        model, processor = loadVim.prepareDownstreamResnet()\n",
    "        checkpoint = torch.load(pathcheckpoint)\n",
    "        model.load_state_dict(checkpoint[\"state_dict\"])\n",
    "\n",
    "    transform = transforms.Compose([\n",
    "        lambda image: processor(images=image, return_tensors='pt')['pixel_values'].squeeze(0)\n",
    "    ])\n",
    "    \n",
    "    def preproc(path):\n",
    "        tensor = torch.load(path)\n",
    "        return tensor.squeeze(0).cpu()\n",
    "    \n",
    "    datasetTrainReg = datasets.ImageFolder(pathtrainreg, transform = transform)\n",
    "    datasetTrainAdv = datasets.DatasetFolder(pathtrain, loader = preproc, extensions=\".pt\")\n",
    "    # Combine them:\n",
    "    datasetTrain = torch.utils.data.ConcatDataset([datasetTrainReg, datasetTrainAdv])\n",
    "    \n",
    "    datasetVal = datasets.ImageFolder(pathval, transform = transform)\n",
    "\n",
    "    loaderTrain = DataLoader(datasetTrain, batch_size=128, shuffle=True)\n",
    "    loaderVal = DataLoader(datasetVal, batch_size=128, shuffle=False)\n",
    "\n",
    "    optimizer = torch.optim.Adam(model.parameters(), lr=5e-3)\n",
    "    criterion = torch.nn.CrossEntropyLoss()\n",
    "    model = model.to(device)\n",
    "    \n",
    "    train(model, loaderTrain, loaderVal, optimizer, criterion, device, nepochs, pathmodel)"
   ]
  },
  {
   "cell_type": "markdown",
   "id": "4521ea61-9429-4e92-9e25-be7dc4856f29",
   "metadata": {},
   "source": [
    "## Vim Adversarial Training"
   ]
  },
  {
   "cell_type": "code",
   "execution_count": 12,
   "id": "966150c3-4a20-4c7b-a735-503624909df6",
   "metadata": {
    "tags": []
   },
   "outputs": [
    {
     "name": "stdout",
     "output_type": "stream",
     "text": [
      "Epoch 1, Train Loss: 1.6491, Train Accuracy: 0.5050, Val Loss: 0.9528, Val Accuracy: 0.6968\n",
      "Epoch 2, Train Loss: 1.3516, Train Accuracy: 0.5741, Val Loss: 0.9381, Val Accuracy: 0.7105\n",
      "Epoch 3, Train Loss: 1.1850, Train Accuracy: 0.5896, Val Loss: 0.9263, Val Accuracy: 0.6998\n",
      "Epoch 4, Train Loss: 1.0310, Train Accuracy: 0.6703, Val Loss: 0.9064, Val Accuracy: 0.7066\n",
      "Epoch 5, Train Loss: 0.8558, Train Accuracy: 0.7126, Val Loss: 0.9130, Val Accuracy: 0.7016\n",
      "Epoch 6, Train Loss: 0.8606, Train Accuracy: 0.7012, Val Loss: 0.9350, Val Accuracy: 0.7046\n",
      "Epoch 7, Train Loss: 0.7901, Train Accuracy: 0.7242, Val Loss: 0.9319, Val Accuracy: 0.7144\n",
      "Epoch 8, Train Loss: 0.6910, Train Accuracy: 0.7619, Val Loss: 0.9484, Val Accuracy: 0.6919\n",
      "Epoch 9, Train Loss: 0.6079, Train Accuracy: 0.8042, Val Loss: 0.9446, Val Accuracy: 0.6772\n",
      "Epoch 10, Train Loss: 0.5786, Train Accuracy: 0.7887, Val Loss: 0.9624, Val Accuracy: 0.6810\n",
      "Epoch 11, Train Loss: 0.5718, Train Accuracy: 0.7893, Val Loss: 0.9529, Val Accuracy: 0.6919\n",
      "Epoch 12, Train Loss: 0.4925, Train Accuracy: 0.8217, Val Loss: 0.9561, Val Accuracy: 0.6968\n",
      "Epoch 13, Train Loss: 0.4554, Train Accuracy: 0.8718, Val Loss: 0.9550, Val Accuracy: 0.6703\n",
      "Epoch 14, Train Loss: 0.4624, Train Accuracy: 0.8590, Val Loss: 0.9679, Val Accuracy: 0.6713\n",
      "Epoch 15, Train Loss: 0.4649, Train Accuracy: 0.8684, Val Loss: 0.9730, Val Accuracy: 0.6654\n",
      "Epoch 16, Train Loss: 0.4805, Train Accuracy: 0.8292, Val Loss: 0.9553, Val Accuracy: 0.6870\n",
      "Epoch 17, Train Loss: 0.3996, Train Accuracy: 0.8756, Val Loss: 0.9637, Val Accuracy: 0.6615\n",
      "Epoch 18, Train Loss: 0.3791, Train Accuracy: 0.8822, Val Loss: 0.9671, Val Accuracy: 0.6674\n",
      "Epoch 19, Train Loss: 0.3760, Train Accuracy: 0.8851, Val Loss: 0.9864, Val Accuracy: 0.6693\n",
      "Epoch 20, Train Loss: 0.3426, Train Accuracy: 0.9015, Val Loss: 0.9809, Val Accuracy: 0.6585\n"
     ]
    }
   ],
   "source": [
    "pathtrainadv = \"/home/jupyter/AdversarialRobustness/CelebAdv/CelAdvVimA\"\n",
    "pathtrainreg = \"/home/jupyter/AdversarialRobustness/CelebSubset/CelebVal\"\n",
    "pathval = \"/home/jupyter/AdversarialRobustness/CelebSubset/CelebTest\"\n",
    "pathcheckpoint = \"/home/jupyter/AdversarialRobustness/models/VimA.pth\"\n",
    "pathmodel = \"/home/jupyter/AdversarialRobustness/models/AdvVimA.pth\"\n",
    "\n",
    "advTrainWrap(pathtrainadv, pathtrainreg, pathval, pathmodel, pathcheckpoint, 20)"
   ]
  },
  {
   "cell_type": "markdown",
   "id": "17cd2625-370f-46f9-8e69-f6d724e73c92",
   "metadata": {},
   "source": [
    "## Vit Adversarial Training"
   ]
  },
  {
   "cell_type": "code",
   "execution_count": 16,
   "id": "b5a8bfea-f4f4-4bdb-9fa1-2b4ea08f21ea",
   "metadata": {
    "tags": []
   },
   "outputs": [
    {
     "name": "stdout",
     "output_type": "stream",
     "text": [
      "Epoch 1, Train Loss: 1.7127, Train Accuracy: 0.6198, Val Loss: 0.5507, Val Accuracy: 0.8788\n",
      "Epoch 2, Train Loss: 0.9574, Train Accuracy: 0.7124, Val Loss: 0.4036, Val Accuracy: 0.8876\n",
      "Epoch 3, Train Loss: 0.6691, Train Accuracy: 0.7925, Val Loss: 0.3389, Val Accuracy: 0.8973\n",
      "Epoch 4, Train Loss: 0.4581, Train Accuracy: 0.8541, Val Loss: 0.3483, Val Accuracy: 0.8904\n",
      "Epoch 5, Train Loss: 0.3326, Train Accuracy: 0.8854, Val Loss: 0.3798, Val Accuracy: 0.8757\n",
      "Epoch 6, Train Loss: 0.2484, Train Accuracy: 0.9208, Val Loss: 0.3811, Val Accuracy: 0.8728\n",
      "Epoch 7, Train Loss: 0.2018, Train Accuracy: 0.9442, Val Loss: 0.4121, Val Accuracy: 0.8856\n",
      "Epoch 8, Train Loss: 0.1385, Train Accuracy: 0.9648, Val Loss: 0.4303, Val Accuracy: 0.8611\n",
      "Epoch 9, Train Loss: 0.1275, Train Accuracy: 0.9682, Val Loss: 0.4189, Val Accuracy: 0.8611\n",
      "Epoch 10, Train Loss: 0.0829, Train Accuracy: 0.9902, Val Loss: 0.3880, Val Accuracy: 0.8895\n",
      "Epoch 11, Train Loss: 0.0752, Train Accuracy: 0.9863, Val Loss: 0.3884, Val Accuracy: 0.8797\n",
      "Epoch 12, Train Loss: 0.0585, Train Accuracy: 0.9922, Val Loss: 0.4117, Val Accuracy: 0.8611\n",
      "Epoch 13, Train Loss: 0.0479, Train Accuracy: 1.0000, Val Loss: 0.4156, Val Accuracy: 0.8670\n",
      "Epoch 14, Train Loss: 0.0412, Train Accuracy: 1.0000, Val Loss: 0.4221, Val Accuracy: 0.8591\n",
      "Epoch 15, Train Loss: 0.0370, Train Accuracy: 1.0000, Val Loss: 0.4154, Val Accuracy: 0.8621\n",
      "Epoch 16, Train Loss: 0.0329, Train Accuracy: 1.0000, Val Loss: 0.4141, Val Accuracy: 0.8572\n",
      "Epoch 17, Train Loss: 0.0310, Train Accuracy: 1.0000, Val Loss: 0.3995, Val Accuracy: 0.8709\n",
      "Epoch 18, Train Loss: 0.0256, Train Accuracy: 1.0000, Val Loss: 0.3993, Val Accuracy: 0.8680\n",
      "Epoch 19, Train Loss: 0.0246, Train Accuracy: 1.0000, Val Loss: 0.4023, Val Accuracy: 0.8719\n",
      "Epoch 20, Train Loss: 0.0246, Train Accuracy: 1.0000, Val Loss: 0.4053, Val Accuracy: 0.8670\n"
     ]
    }
   ],
   "source": [
    "pathtrainadv = \"/home/jupyter/AdversarialRobustness/CelebAdv/CelAdvVitA\"\n",
    "pathtrainreg = \"/home/jupyter/AdversarialRobustness/CelebSubset/CelebVal\"\n",
    "pathval = \"/home/jupyter/AdversarialRobustness/CelebSubset/CelebTest\"\n",
    "pathcheckpoint = \"/home/jupyter/AdversarialRobustness/models/VitA.pth\"\n",
    "pathmodel = \"/home/jupyter/AdversarialRobustness/models/AdvVitA.pth\"\n",
    "\n",
    "advTrainWrap(pathtrainadv, pathtrainreg, pathval, pathmodel, pathcheckpoint, 20, model = \"vit\")"
   ]
  },
  {
   "cell_type": "markdown",
   "id": "bb5f0709-a955-4682-b016-ba8a38432fb1",
   "metadata": {},
   "source": [
    "## ResNet Adversarial Training"
   ]
  },
  {
   "cell_type": "code",
   "execution_count": 17,
   "id": "0cd2b781-c0f8-41c4-833f-2f63d6297760",
   "metadata": {
    "tags": []
   },
   "outputs": [
    {
     "name": "stdout",
     "output_type": "stream",
     "text": [
      "Epoch 1, Train Loss: 1.2936, Train Accuracy: 0.5535, Val Loss: 1.3707, Val Accuracy: 0.5381\n",
      "Epoch 2, Train Loss: 1.1756, Train Accuracy: 0.6051, Val Loss: 1.3476, Val Accuracy: 0.5478\n",
      "Epoch 3, Train Loss: 1.0636, Train Accuracy: 0.6557, Val Loss: 1.3081, Val Accuracy: 0.5596\n",
      "Epoch 4, Train Loss: 0.9809, Train Accuracy: 0.7053, Val Loss: 1.2788, Val Accuracy: 0.5733\n",
      "Epoch 5, Train Loss: 0.9548, Train Accuracy: 0.7282, Val Loss: 1.2527, Val Accuracy: 0.5890\n",
      "Epoch 6, Train Loss: 0.8591, Train Accuracy: 0.7526, Val Loss: 1.2947, Val Accuracy: 0.5734\n",
      "Epoch 7, Train Loss: 0.8057, Train Accuracy: 0.7789, Val Loss: 1.2994, Val Accuracy: 0.5626\n",
      "Epoch 8, Train Loss: 0.7249, Train Accuracy: 0.8258, Val Loss: 1.2880, Val Accuracy: 0.5665\n",
      "Epoch 9, Train Loss: 0.7032, Train Accuracy: 0.8346, Val Loss: 1.2829, Val Accuracy: 0.5655\n",
      "Epoch 10, Train Loss: 0.6575, Train Accuracy: 0.8576, Val Loss: 1.2760, Val Accuracy: 0.5597\n",
      "Epoch 11, Train Loss: 0.6070, Train Accuracy: 0.8748, Val Loss: 1.2819, Val Accuracy: 0.5685\n",
      "Epoch 12, Train Loss: 0.5576, Train Accuracy: 0.8852, Val Loss: 1.2751, Val Accuracy: 0.5568\n",
      "Epoch 13, Train Loss: 0.5308, Train Accuracy: 0.9098, Val Loss: 1.2889, Val Accuracy: 0.5528\n",
      "Epoch 14, Train Loss: 0.4978, Train Accuracy: 0.9327, Val Loss: 1.2969, Val Accuracy: 0.5558\n",
      "Epoch 15, Train Loss: 0.4403, Train Accuracy: 0.9411, Val Loss: 1.2952, Val Accuracy: 0.5695\n",
      "Epoch 16, Train Loss: 0.4656, Train Accuracy: 0.9149, Val Loss: 1.2891, Val Accuracy: 0.5812\n",
      "Epoch 17, Train Loss: 0.4004, Train Accuracy: 0.9578, Val Loss: 1.2960, Val Accuracy: 0.5666\n",
      "Epoch 18, Train Loss: 0.4139, Train Accuracy: 0.9463, Val Loss: 1.3067, Val Accuracy: 0.5715\n",
      "Epoch 19, Train Loss: 0.3834, Train Accuracy: 0.9535, Val Loss: 1.3167, Val Accuracy: 0.5568\n",
      "Epoch 20, Train Loss: 0.3640, Train Accuracy: 0.9656, Val Loss: 1.3121, Val Accuracy: 0.5636\n"
     ]
    }
   ],
   "source": [
    "pathtrainadv = \"/home/jupyter/AdversarialRobustness/CelebAdv/CelAdvResNetA\"\n",
    "pathtrainreg = \"/home/jupyter/AdversarialRobustness/CelebSubset/CelebVal\"\n",
    "pathval = \"/home/jupyter/AdversarialRobustness/CelebSubset/CelebTest\"\n",
    "pathcheckpoint = \"/home/jupyter/AdversarialRobustness/models/ResNetA.pth\"\n",
    "pathmodel = \"/home/jupyter/AdversarialRobustness/models/AdvResNetA.pth\"\n",
    "\n",
    "advTrainWrap(pathtrainadv, pathtrainreg, pathval, pathmodel, pathcheckpoint, 20, model = \"resnet\")"
   ]
  },
  {
   "cell_type": "code",
   "execution_count": null,
   "id": "3b4527de-ce29-47c5-bf14-e20953a81115",
   "metadata": {},
   "outputs": [],
   "source": []
  }
 ],
 "metadata": {
  "environment": {
   "kernel": "conda-env-pytorch-pytorch",
   "name": "workbench-notebooks.m121",
   "type": "gcloud",
   "uri": "us-docker.pkg.dev/deeplearning-platform-release/gcr.io/workbench-notebooks:m121"
  },
  "kernelspec": {
   "display_name": "PyTorch 1-13 (Local)",
   "language": "python",
   "name": "conda-env-pytorch-pytorch"
  },
  "language_info": {
   "codemirror_mode": {
    "name": "ipython",
    "version": 3
   },
   "file_extension": ".py",
   "mimetype": "text/x-python",
   "name": "python",
   "nbconvert_exporter": "python",
   "pygments_lexer": "ipython3",
   "version": "3.10.14"
  }
 },
 "nbformat": 4,
 "nbformat_minor": 5
}
