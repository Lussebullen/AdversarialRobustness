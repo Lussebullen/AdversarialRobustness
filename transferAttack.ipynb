{
 "cells": [
  {
   "cell_type": "markdown",
   "id": "aaf988da-3f72-4a03-a538-700f63612688",
   "metadata": {},
   "source": [
    "# Transfer Attack Experiment\n",
    "\n",
    "In this document we will investigate the accuracy of the A-suffix models on the adverarial examples generated from their sister B-suffix models."
   ]
  },
  {
   "cell_type": "code",
   "execution_count": 23,
   "id": "77f38fb7-077b-48e5-8667-6ae3a9c27a8a",
   "metadata": {
    "tags": []
   },
   "outputs": [],
   "source": [
    "import loadVim as lv\n",
    "import torch\n",
    "from torchvision import datasets, transforms\n",
    "import torchvision\n",
    "from torch.utils.data import Dataset, DataLoader\n",
    "\n",
    "device = torch.device(\"cuda\" if torch.cuda.is_available() else \"cpu\")"
   ]
  },
  {
   "cell_type": "code",
   "execution_count": 20,
   "id": "da1fe63b-13ed-4742-a771-8256a569a755",
   "metadata": {
    "tags": []
   },
   "outputs": [],
   "source": [
    "def compute_accuracy(outputs, labels):\n",
    "    _, preds = torch.max(outputs, 1) \n",
    "    correct = torch.sum(preds == labels).item() \n",
    "    return correct / len(labels)\n",
    "\n",
    "def validate(model, valid_loader):\n",
    "    device = torch.device(\"cuda\" if torch.cuda.is_available() else \"cpu\")\n",
    "    criterion = torch.nn.CrossEntropyLoss()\n",
    "    \n",
    "    model.eval()\n",
    "    total_loss = 0\n",
    "    total_accuracy = 0\n",
    "    with torch.no_grad():\n",
    "        for images, labels in valid_loader:\n",
    "            images, labels = images.to(device), labels.to(device)\n",
    "            outputs = model(images)\n",
    "            loss = criterion(outputs.logits, labels)\n",
    "\n",
    "            accuracy = compute_accuracy(outputs.logits, labels)\n",
    "            total_accuracy += accuracy\n",
    "            total_loss += loss.item()\n",
    "    \n",
    "    average_loss = total_loss / len(valid_loader)\n",
    "    average_accuracy = total_accuracy / len(valid_loader)\n",
    "    return average_loss, average_accuracy"
   ]
  },
  {
   "cell_type": "markdown",
   "id": "7b809fba-c570-4f0b-ab13-6cfcb8c3ae7f",
   "metadata": {},
   "source": [
    "# Vim Transfer Attack Successrate"
   ]
  },
  {
   "cell_type": "code",
   "execution_count": 29,
   "id": "ee9b0dc7-2e57-414c-b0bb-4bde96d5e8f0",
   "metadata": {
    "tags": []
   },
   "outputs": [
    {
     "data": {
      "text/plain": [
       "(4.55005669593811, 0.12408088235294118)"
      ]
     },
     "execution_count": 29,
     "metadata": {},
     "output_type": "execute_result"
    }
   ],
   "source": [
    "# Load weights into model\n",
    "model, processor = lv.prepareDownstreamVim()\n",
    "pathcheckpoint = \"/home/jupyter/AdversarialRobustness/models/VimA.pth\"\n",
    "checkpoint = torch.load(pathcheckpoint)\n",
    "model.vim_model.load_state_dict(checkpoint[\"state_dict\"])\n",
    "model = model.to(device)\n",
    "\n",
    "# Load adversarial data from B set\n",
    "pathadvdata = \"/home/jupyter/AdversarialRobustness/CelebAdv/CelAdvVimB\"\n",
    "\n",
    "def preproc(path):\n",
    "    tensor = torch.load(path)\n",
    "    return tensor.squeeze(0).cpu()\n",
    "\n",
    "datasetAdv = datasets.DatasetFolder(pathadvdata, loader = preproc, extensions=\".pt\")\n",
    "loaderAdv = DataLoader(datasetAdv, batch_size=32, shuffle=False)\n",
    "\n",
    "validate(model, loaderAdv)"
   ]
  },
  {
   "cell_type": "markdown",
   "id": "d0ca358c-ccc2-4ec8-b07d-591d41525144",
   "metadata": {},
   "source": [
    "# Vit Transfer Attack Successrate"
   ]
  },
  {
   "cell_type": "code",
   "execution_count": 31,
   "id": "c6d1a7fc-515f-46db-8c0a-91a8729700cc",
   "metadata": {
    "tags": []
   },
   "outputs": [
    {
     "data": {
      "text/plain": [
       "(3.2605673585619246, 0.20089285714285715)"
      ]
     },
     "execution_count": 31,
     "metadata": {},
     "output_type": "execute_result"
    }
   ],
   "source": [
    "# Load weights into model\n",
    "model, processor = lv.prepareDownstreamVit()\n",
    "pathcheckpoint = \"/home/jupyter/AdversarialRobustness/models/VitA.pth\"\n",
    "checkpoint = torch.load(pathcheckpoint)\n",
    "model.load_state_dict(checkpoint[\"state_dict\"])\n",
    "model = model.to(device)\n",
    "\n",
    "# Load adversarial data from B set\n",
    "pathadvdata = \"/home/jupyter/AdversarialRobustness/CelebAdv/CelAdvVitB\"\n",
    "\n",
    "def preproc(path):\n",
    "    tensor = torch.load(path)\n",
    "    return tensor.squeeze(0).cpu()\n",
    "\n",
    "datasetAdv = datasets.DatasetFolder(pathadvdata, loader = preproc, extensions=\".pt\")\n",
    "loaderAdv = DataLoader(datasetAdv, batch_size=32, shuffle=False)\n",
    "\n",
    "validate(model, loaderAdv)"
   ]
  },
  {
   "cell_type": "markdown",
   "id": "70780245-985a-41bf-94ed-1944e090a62f",
   "metadata": {},
   "source": [
    "# ResNet Transfer Attack Successrate"
   ]
  },
  {
   "cell_type": "code",
   "execution_count": 34,
   "id": "42065891-654c-4de0-aa7d-604bf584fb67",
   "metadata": {
    "tags": []
   },
   "outputs": [
    {
     "data": {
      "text/plain": [
       "(1.7991121113300323, 0.3802083333333333)"
      ]
     },
     "execution_count": 34,
     "metadata": {},
     "output_type": "execute_result"
    }
   ],
   "source": [
    "# Load weights into model\n",
    "model, processor = lv.prepareDownstreamResnet()\n",
    "pathcheckpoint = \"/home/jupyter/AdversarialRobustness/models/ResNetA.pth\"\n",
    "checkpoint = torch.load(pathcheckpoint)\n",
    "model.load_state_dict(checkpoint[\"state_dict\"])\n",
    "model = model.to(device)\n",
    "\n",
    "# Load adversarial data from B set\n",
    "pathadvdata = \"/home/jupyter/AdversarialRobustness/CelebAdv/CelAdvResNetB\"\n",
    "\n",
    "def preproc(path):\n",
    "    tensor = torch.load(path)\n",
    "    return tensor.squeeze(0).cpu()\n",
    "\n",
    "datasetAdv = datasets.DatasetFolder(pathadvdata, loader = preproc, extensions=\".pt\")\n",
    "loaderAdv = DataLoader(datasetAdv, batch_size=32, shuffle=False)\n",
    "\n",
    "validate(model, loaderAdv)"
   ]
  }
 ],
 "metadata": {
  "environment": {
   "kernel": "conda-env-pytorch-pytorch",
   "name": "workbench-notebooks.m121",
   "type": "gcloud",
   "uri": "us-docker.pkg.dev/deeplearning-platform-release/gcr.io/workbench-notebooks:m121"
  },
  "kernelspec": {
   "display_name": "PyTorch 1-13 (Local)",
   "language": "python",
   "name": "conda-env-pytorch-pytorch"
  },
  "language_info": {
   "codemirror_mode": {
    "name": "ipython",
    "version": 3
   },
   "file_extension": ".py",
   "mimetype": "text/x-python",
   "name": "python",
   "nbconvert_exporter": "python",
   "pygments_lexer": "ipython3",
   "version": "3.10.14"
  }
 },
 "nbformat": 4,
 "nbformat_minor": 5
}
