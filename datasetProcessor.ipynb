{
 "cells": [
  {
   "cell_type": "code",
   "execution_count": 19,
   "metadata": {},
   "outputs": [],
   "source": [
    "import torch\n",
    "from torchvision import datasets, transforms\n",
    "from torch.utils.data import DataLoader\n",
    "import PIL\n",
    "import os"
   ]
  },
  {
   "cell_type": "markdown",
   "metadata": {},
   "source": [
    "# Load and process subset"
   ]
  },
  {
   "cell_type": "code",
   "execution_count": 9,
   "metadata": {},
   "outputs": [],
   "source": [
    "data = datasets.ImageFolder(\"CelebDataProcessed\")"
   ]
  },
  {
   "cell_type": "code",
   "execution_count": 16,
   "metadata": {},
   "outputs": [],
   "source": [
    "labels = data.classes\n",
    "# Find the most common label\n",
    "label_counts = {}\n",
    "for _, label in data.samples:\n",
    "    label_counts[label] = label_counts.get(label, 0) + 1   \n",
    "# Store top 10 most common label names in list\n",
    "subsetLabels = [labels[label] for label in sorted(label_counts, key=label_counts.get, reverse=True)[:10]]"
   ]
  },
  {
   "cell_type": "code",
   "execution_count": 20,
   "metadata": {},
   "outputs": [],
   "source": [
    "# Create a directory only containing the top 10 most common labels\n",
    "os.makedirs(\"CelebDataProcessedSubset\", exist_ok=True)\n",
    "for label in subsetLabels:\n",
    "    os.makedirs(f\"CelebDataProcessedSubset/{label}\", exist_ok=True)\n",
    "    # Copy images from original directory to new directory\n",
    "    for root, _, files in os.walk(f\"CelebDataProcessed/{label}\"):\n",
    "        for file in files:\n",
    "            os.link(f\"{root}/{file}\", f\"CelebDataProcessedSubset/{label}/{file}\")"
   ]
  },
  {
   "cell_type": "markdown",
   "metadata": {},
   "source": [
    "# Split subset"
   ]
  },
  {
   "cell_type": "code",
   "execution_count": 24,
   "metadata": {},
   "outputs": [],
   "source": [
    "# Now we need to split into training and validation sets\n",
    "subset = datasets.ImageFolder(\"CelebDataProcessedSubset\")\n",
    "train1, train2, val, test = torch.utils.data.random_split(subset, [0.4, 0.4, 0.1, 0.1])\n",
    "\n",
    "# Save the datasets to disk\n"
   ]
  },
  {
   "cell_type": "code",
   "execution_count": 40,
   "metadata": {},
   "outputs": [],
   "source": [
    "def saveSubset(dataset, path):\n",
    "    for i, (img, label) in enumerate(dataset):\n",
    "        dirname = subset.classes[label] # Name of class\n",
    "        os.makedirs(f\"{path}/{dirname}\", exist_ok=True)\n",
    "        img.save(f\"{path}/{dirname}/{i}.jpg\")"
   ]
  },
  {
   "cell_type": "code",
   "execution_count": 42,
   "metadata": {},
   "outputs": [],
   "source": [
    "saveSubset(train1, \"CelebTrainA\")\n",
    "saveSubset(train2, \"CelebTrainB\")\n",
    "saveSubset(val, \"CelebVal\")\n",
    "saveSubset(test, \"CelebTest\")"
   ]
  }
 ],
 "metadata": {
  "kernelspec": {
   "display_name": "Python 3",
   "language": "python",
   "name": "python3"
  },
  "language_info": {
   "codemirror_mode": {
    "name": "ipython",
    "version": 3
   },
   "file_extension": ".py",
   "mimetype": "text/x-python",
   "name": "python",
   "nbconvert_exporter": "python",
   "pygments_lexer": "ipython3",
   "version": "3.12.3"
  }
 },
 "nbformat": 4,
 "nbformat_minor": 2
}
